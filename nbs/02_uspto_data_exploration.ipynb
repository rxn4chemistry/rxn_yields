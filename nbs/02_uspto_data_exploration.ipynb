{
 "cells": [
  {
   "cell_type": "code",
   "execution_count": null,
   "metadata": {},
   "outputs": [],
   "source": [
    "# hide\n",
    "%load_ext autoreload\n",
    "%autoreload 2"
   ]
  },
  {
   "cell_type": "markdown",
   "metadata": {},
   "source": [
    "# USPTO data Exploration\n",
    "\n",
    "> Looking into the USPTOyield data"
   ]
  },
  {
   "cell_type": "code",
   "execution_count": null,
   "metadata": {},
   "outputs": [],
   "source": [
    "# hide \n",
    "import pandas as pd\n",
    "import numpy as np\n",
    "import matplotlib.pyplot as plt\n",
    "%matplotlib inline "
   ]
  },
  {
   "cell_type": "code",
   "execution_count": null,
   "metadata": {},
   "outputs": [],
   "source": [
    "# hide\n",
    "default_plot_kwargs = {\n",
    "    'color': '#541FA3',\n",
    "}\n",
    "title_fontsize = 18\n",
    "label_fontsize = 16"
   ]
  },
  {
   "cell_type": "markdown",
   "metadata": {},
   "source": [
    "## Getting the data files\n",
    "\n",
    "The USPTO yields data files are too large to be uploaded to this GitHub repo and have to be downloaded from this [Box folder](https://ibm.ent.box.com/v/uspto-yields-data) and placed into `../data/uspto`. The data was extracted from the data set published by Lowe [Chemical reactions from US patents (1976-Sep2016)](https://figshare.com/articles/Chemical_reactions_from_US_patents_1976-Sep2016_/5104873), which has catalized research on ML for chemical reactions in recent years."
   ]
  },
  {
   "cell_type": "markdown",
   "metadata": {},
   "source": [
    "## USPTO data - mass scales\n",
    "\n",
    "We observed that `milligram scale` and `gram scale` reactions had different yield distributions. Gram scale reaction are often optimized, whereas milligram scale are not optimized and yields might be often lower. In academia predicting the non-optimized yield is more relevant. Therefore, we splitted the USPTO reactions, which contained yield and product mass information into two categories (gram, milligram) at a threshold of 1 gram. "
   ]
  },
  {
   "cell_type": "code",
   "execution_count": null,
   "metadata": {},
   "outputs": [],
   "source": [
    "# data\n",
    "gram_df = pd.read_csv('../data/uspto/yields_above_200622.tsv', sep='\\t', index_col=0)\n",
    "gram_df['calc_yield'] = gram_df.calc_yield_above\n",
    "\n",
    "milligram_df = pd.read_csv('../data/uspto/yields_below_200622.tsv', sep='\\t', index_col=0)\n",
    "milligram_df['calc_yield'] = milligram_df.calc_yield_below"
   ]
  },
  {
   "cell_type": "code",
   "execution_count": null,
   "metadata": {},
   "outputs": [
    {
     "data": {
      "text/plain": [
       "<matplotlib.axes._subplots.AxesSubplot at 0x7f5cac230630>"
      ]
     },
     "execution_count": null,
     "metadata": {},
     "output_type": "execute_result"
    },
    {
     "data": {
      "image/png": "[encoded data removed]",
      "text/plain": [
       "<Figure size 864x432 with 2 Axes>"
      ]
     },
     "metadata": {
      "needs_background": "light"
     },
     "output_type": "display_data"
    }
   ],
   "source": [
    "# data\n",
    "fig, (ax1, ax2) = plt.subplots(1, 2, figsize=(12,6))\n",
    "fig.suptitle('Yield distributions - USPTO', fontsize=title_fontsize)\n",
    "ax1.set_ylabel('Count', fontsize=label_fontsize)\n",
    "ax1.set_xlabel('Yields [%] - gram scale', fontsize=label_fontsize)\n",
    "gram_df.calc_yield.hist(bins=20, ax=ax1, **default_plot_kwargs)\n",
    "ax2.set_xlabel('Yields [%] - milligram scale', fontsize=label_fontsize)\n",
    "milligram_df.calc_yield.hist(bins=20, ax=ax2, **default_plot_kwargs)"
   ]
  },
  {
   "cell_type": "code",
   "execution_count": null,
   "metadata": {},
   "outputs": [],
   "source": [
    "# hide\n",
    "# data\n",
    "# fig.tight_layout()\n",
    "fig.savefig('images/uspto_yield_distributions.pdf')\n",
    "fig.savefig('images/uspto_yield_distributions.png')"
   ]
  },
  {
   "cell_type": "code",
   "execution_count": null,
   "metadata": {},
   "outputs": [
    {
     "data": {
      "text/html": [
       "<div>\n",
       "<style scoped>\n",
       "    .dataframe tbody tr th:only-of-type {\n",
       "        vertical-align: middle;\n",
       "    }\n",
       "\n",
       "    .dataframe tbody tr th {\n",
       "        vertical-align: top;\n",
       "    }\n",
       "\n",
       "    .dataframe thead th {\n",
       "        text-align: right;\n",
       "    }\n",
       "</style>\n",
       "<table border=\"1\" class=\"dataframe\">\n",
       "  <thead>\n",
       "    <tr style=\"text-align: right;\">\n",
       "      <th></th>\n",
       "      <th>calc_yield</th>\n",
       "      <th>calc_yield</th>\n",
       "    </tr>\n",
       "  </thead>\n",
       "  <tbody>\n",
       "    <tr>\n",
       "      <th>count</th>\n",
       "      <td>197619.000000</td>\n",
       "      <td>302040.000000</td>\n",
       "    </tr>\n",
       "    <tr>\n",
       "      <th>mean</th>\n",
       "      <td>73.232436</td>\n",
       "      <td>56.841559</td>\n",
       "    </tr>\n",
       "    <tr>\n",
       "      <th>std</th>\n",
       "      <td>20.942848</td>\n",
       "      <td>26.642160</td>\n",
       "    </tr>\n",
       "    <tr>\n",
       "      <th>min</th>\n",
       "      <td>0.000000</td>\n",
       "      <td>0.000000</td>\n",
       "    </tr>\n",
       "    <tr>\n",
       "      <th>25%</th>\n",
       "      <td>60.200000</td>\n",
       "      <td>35.500000</td>\n",
       "    </tr>\n",
       "    <tr>\n",
       "      <th>50%</th>\n",
       "      <td>78.000000</td>\n",
       "      <td>58.900000</td>\n",
       "    </tr>\n",
       "    <tr>\n",
       "      <th>75%</th>\n",
       "      <td>90.300000</td>\n",
       "      <td>79.500000</td>\n",
       "    </tr>\n",
       "    <tr>\n",
       "      <th>max</th>\n",
       "      <td>100.000000</td>\n",
       "      <td>100.000000</td>\n",
       "    </tr>\n",
       "  </tbody>\n",
       "</table>\n",
       "</div>"
      ],
      "text/plain": [
       "          calc_yield     calc_yield\n",
       "count  197619.000000  302040.000000\n",
       "mean       73.232436      56.841559\n",
       "std        20.942848      26.642160\n",
       "min         0.000000       0.000000\n",
       "25%        60.200000      35.500000\n",
       "50%        78.000000      58.900000\n",
       "75%        90.300000      79.500000\n",
       "max       100.000000     100.000000"
      ]
     },
     "execution_count": null,
     "metadata": {},
     "output_type": "execute_result"
    }
   ],
   "source": [
    "# data\n",
    "pd.concat([gram_df['calc_yield'].describe(),milligram_df['calc_yield'].describe()], axis=1)"
   ]
  },
  {
   "cell_type": "markdown",
   "metadata": {},
   "source": [
    "### Prepare the data"
   ]
  },
  {
   "cell_type": "code",
   "execution_count": null,
   "metadata": {},
   "outputs": [],
   "source": [
    "# data\n",
    "milligram_df['rxn'] = milligram_df.tokenized_reactants_inputs.str.replace(' ', '') + '>>' + milligram_df.tokenized_products_inputs.str.replace(' ', '')\n",
    "milligram_df['scaled_yield'] = milligram_df.calc_yield / 100\n",
    "milligram_train_random_split_df = milligram_df[milligram_df.random_split=='train'][['rxn', 'scaled_yield']].sample(frac=1., random_state=42)\n",
    "milligram_test_random_split_df = milligram_df[milligram_df.random_split=='test'][['rxn', 'scaled_yield']]\n",
    "milligram_train_time_split_df = milligram_df[milligram_df.time_split=='train'][['rxn', 'scaled_yield']].sample(frac=1., random_state=42)\n",
    "milligram_test_time_split_df = milligram_df[milligram_df.time_split=='test'][['rxn', 'scaled_yield']]"
   ]
  },
  {
   "cell_type": "code",
   "execution_count": null,
   "metadata": {},
   "outputs": [],
   "source": [
    "#hide\n",
    "# data\n",
    "milligram_train_random_split_df.to_csv('../data/uspto/milligram_train_random_split.tsv', sep='\\t')\n",
    "milligram_test_random_split_df.to_csv('../data/uspto/milligram_test_random_split.tsv', sep='\\t')\n",
    "milligram_train_time_split_df.to_csv('../data/uspto/milligram_train_time_split.tsv', sep='\\t')\n",
    "milligram_test_time_split_df.to_csv('../data/uspto/milligram_test_time_split.tsv', sep='\\t')"
   ]
  },
  {
   "cell_type": "markdown",
   "metadata": {},
   "source": [
    "### Gram scale "
   ]
  },
  {
   "cell_type": "code",
   "execution_count": null,
   "metadata": {},
   "outputs": [],
   "source": [
    "# data\n",
    "gram_df['rxn'] = gram_df.tokenized_reactants_inputs.str.replace(' ', '') + '>>' + gram_df.tokenized_products_inputs.str.replace(' ', '')\n",
    "gram_df['scaled_yield'] = gram_df.calc_yield / 100\n",
    "gram_train_random_split_df = gram_df[gram_df.random_split=='train'][['rxn', 'scaled_yield']].sample(frac=1., random_state=42)\n",
    "gram_test_random_split_df = gram_df[gram_df.random_split=='test'][['rxn', 'scaled_yield']]\n",
    "gram_train_time_split_df = gram_df[gram_df.time_split=='train'][['rxn', 'scaled_yield']].sample(frac=1., random_state=42)\n",
    "gram_test_time_split_df = gram_df[gram_df.time_split=='test'][['rxn', 'scaled_yield']]"
   ]
  },
  {
   "cell_type": "code",
   "execution_count": null,
   "metadata": {},
   "outputs": [],
   "source": [
    "#hide\n",
    "# data\n",
    "gram_train_random_split_df.to_csv('../data/uspto/gram_train_random_split.tsv', sep='\\t')\n",
    "gram_test_random_split_df.to_csv('../data/uspto/gram_test_random_split.tsv', sep='\\t')\n",
    "gram_train_time_split_df.to_csv('../data/uspto/gram_train_time_split.tsv', sep='\\t')\n",
    "gram_test_time_split_df.to_csv('../data/uspto/gram_test_time_split.tsv', sep='\\t')"
   ]
  },
  {
   "cell_type": "markdown",
   "metadata": {},
   "source": [
    "### USPTO - smoothed "
   ]
  },
  {
   "cell_type": "code",
   "execution_count": null,
   "metadata": {},
   "outputs": [],
   "source": [
    "# data\n",
    "gram_df = pd.read_csv('../data/uspto/yields_above_200622.tsv', sep='\\t', index_col=0)\n",
    "gram_smoothed_df = pd.read_csv('../data/uspto/yields_above_smooth_200622.tsv', sep='\\t', index_col=0) \n",
    "gram_df['calc_yield'] = gram_smoothed_df['4NN-2'].values\n",
    "milligram_df = pd.read_csv('../data/uspto/yields_below_200622.tsv', sep='\\t', index_col=0)\n",
    "milligram_smoothed_df = pd.read_csv('../data/uspto/yields_below_smooth_200622.tsv', sep='\\t', index_col=0)\n",
    "\n",
    "milligram_df['calc_yield'] = milligram_smoothed_df['4NN-2'].values"
   ]
  },
  {
   "cell_type": "code",
   "execution_count": null,
   "metadata": {},
   "outputs": [
    {
     "data": {
      "text/plain": [
       "<matplotlib.axes._subplots.AxesSubplot at 0x7fcc59039dd8>"
      ]
     },
     "execution_count": null,
     "metadata": {},
     "output_type": "execute_result"
    },
    {
     "data": {
      "image/png": "[encoded data removed]",
      "text/plain": [
       "<Figure size 864x432 with 2 Axes>"
      ]
     },
     "metadata": {
      "needs_background": "light"
     },
     "output_type": "display_data"
    }
   ],
   "source": [
    "# data\n",
    "fig, (ax1, ax2) = plt.subplots(1, 2, figsize=(12,6))\n",
    "fig.suptitle('Yield distributions - USPTO smoothed 4NN-2', fontsize=title_fontsize)\n",
    "ax1.set_ylabel('Count', fontsize=label_fontsize)\n",
    "ax1.set_xlabel('Yields [%] - gram scale', fontsize=label_fontsize)\n",
    "gram_df.calc_yield.hist(bins=20, ax=ax1, **default_plot_kwargs)\n",
    "ax2.set_xlabel('Yields [%] - milligram scale', fontsize=label_fontsize)\n",
    "milligram_df.calc_yield.hist(bins=20, ax=ax2, **default_plot_kwargs)"
   ]
  },
  {
   "cell_type": "code",
   "execution_count": null,
   "metadata": {},
   "outputs": [],
   "source": [
    "# hide\n",
    "# data\n",
    "# fig.tight_layout()\n",
    "fig.savefig('images/uspto_yield_distributions_4nn-2.pdf')\n",
    "fig.savefig('images/uspto_yield_distributions_4nn-2.png')"
   ]
  },
  {
   "cell_type": "code",
   "execution_count": null,
   "metadata": {},
   "outputs": [],
   "source": [
    "#hide\n",
    "# data\n",
    "\n",
    "milligram_df['rxn'] = milligram_df.tokenized_reactants_inputs.str.replace(' ', '') + '>>' + milligram_df.tokenized_products_inputs.str.replace(' ', '')\n",
    "milligram_df['scaled_yield'] = milligram_df.calc_yield / 100\n",
    "milligram_train_random_split_df = milligram_df[milligram_df.random_split=='train'][['rxn', 'scaled_yield']].sample(frac=1., random_state=42)\n",
    "milligram_test_random_split_df = milligram_df[milligram_df.random_split=='test'][['rxn', 'scaled_yield']]\n",
    "milligram_train_time_split_df = milligram_df[milligram_df.time_split=='train'][['rxn', 'scaled_yield']].sample(frac=1., random_state=42)\n",
    "milligram_test_time_split_df = milligram_df[milligram_df.time_split=='test'][['rxn', 'scaled_yield']]\n",
    "\n",
    "\n",
    "milligram_train_random_split_df.to_csv('../data/uspto/milligram_smooth_train_random_split.tsv', sep='\\t')\n",
    "milligram_test_random_split_df.to_csv('../data/uspto/milligram_smooth_test_random_split.tsv', sep='\\t')\n",
    "milligram_train_time_split_df.to_csv('../data/uspto/milligram_smooth_train_time_split.tsv', sep='\\t')\n",
    "milligram_test_time_split_df.to_csv('../data/uspto/milligram_smooth_test_time_split.tsv', sep='\\t')"
   ]
  },
  {
   "cell_type": "code",
   "execution_count": null,
   "metadata": {},
   "outputs": [],
   "source": [
    "#hide\n",
    "# data\n",
    "gram_df['rxn'] = gram_df.tokenized_reactants_inputs.str.replace(' ', '') + '>>' + gram_df.tokenized_products_inputs.str.replace(' ', '')\n",
    "gram_df['scaled_yield'] = gram_df.calc_yield / 100\n",
    "gram_train_random_split_df = gram_df[gram_df.random_split=='train'][['rxn', 'scaled_yield']].sample(frac=1., random_state=42)\n",
    "gram_test_random_split_df = gram_df[gram_df.random_split=='test'][['rxn', 'scaled_yield']]\n",
    "gram_train_time_split_df = gram_df[gram_df.time_split=='train'][['rxn', 'scaled_yield']].sample(frac=1., random_state=42)\n",
    "gram_test_time_split_df = gram_df[gram_df.time_split=='test'][['rxn', 'scaled_yield']]\n",
    "\n",
    "gram_train_random_split_df.to_csv('../data/uspto/gram_smooth_train_random_split.tsv', sep='\\t')\n",
    "gram_test_random_split_df.to_csv('../data/uspto/gram_smooth_test_random_split.tsv', sep='\\t')\n",
    "gram_train_time_split_df.to_csv('../data/uspto/gram_smooth_train_time_split.tsv', sep='\\t')\n",
    "gram_test_time_split_df.to_csv('../data/uspto/gram_smooth_test_time_split.tsv', sep='\\t')"
   ]
  },
  {
   "cell_type": "code",
   "execution_count": null,
   "metadata": {},
   "outputs": [],
   "source": []
  }
 ],
 "metadata": {
  "kernelspec": {
   "display_name": "Python 3",
   "language": "python",
   "name": "python3"
  }
 },
 "nbformat": 4,
 "nbformat_minor": 4
}
